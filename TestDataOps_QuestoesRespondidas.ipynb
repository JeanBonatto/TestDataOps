{
 "cells": [
  {
   "attachments": {},
   "cell_type": "markdown",
   "metadata": {},
   "source": [
    "1.2.\tCriação do Pandas Dataframe\n",
    "\n",
    "O início de teste se baseia em criar um arquivo em python contendo dois pandas dataframe, o primeiro onde será armazenado as informações do carro, e o segundo onde será armazenado as informações da montadora.\n",
    "\n",
    "Para o primeiro dataframe, o resultado esperado é:\n",
    "\n",
    "Para o segundo dataframe, o resultado esperado é:\n",
    " \n"
   ]
  },
  {
   "cell_type": "code",
   "execution_count": 8,
   "metadata": {},
   "outputs": [
    {
     "name": "stdout",
     "output_type": "stream",
     "text": [
      "     Carro       Cor   Montadora\n",
      "0     Onix     Prata   Chevrolet\n",
      "1     Polo    Branco  Volkswagen\n",
      "2  Sandero     Prata     Renault\n",
      "3   Fiesta  Vermelho        Ford\n",
      "4     City     Preto       Honda\n"
     ]
    }
   ],
   "source": [
    "import pandas as pd\n",
    "\n",
    "\n",
    "dfCarros = {\n",
    "    'Carro': ['Onix', 'Polo', 'Sandero', 'Fiesta', 'City'],\n",
    "    'Cor': ['Prata', 'Branco', 'Prata', 'Vermelho', 'Preto'],\n",
    "    'Montadora': ['Chevrolet', 'Volkswagen', 'Renault', 'Ford', 'Honda']\n",
    "}\n",
    "dfCarros = pd.DataFrame(dfCarros)\n",
    "print(dfCarros)"
   ]
  },
  {
   "cell_type": "code",
   "execution_count": 11,
   "metadata": {},
   "outputs": [
    {
     "name": "stdout",
     "output_type": "stream",
     "text": [
      "    Montadora      País\n",
      "0   Chevrolet       EUA\n",
      "1  Volkswagen  Alemanhã\n",
      "2     Renault    França\n",
      "3        Ford       EUA\n",
      "4       Honda     Japão\n"
     ]
    }
   ],
   "source": [
    "dfMontadoras = {\n",
    "    'Montadora': ['Chevrolet', 'Volkswagen', 'Renault', 'Ford', 'Honda'],\n",
    "    'País': ['EUA', 'Alemanhã', 'França', 'EUA', 'Japão']\n",
    "}\n",
    "dfMontadoras = pd.DataFrame(dfMontadoras)\n",
    "print(dfMontadoras)"
   ]
  },
  {
   "attachments": {},
   "cell_type": "markdown",
   "metadata": {},
   "source": [
    "1.3.\tSalvar Pandas Dataframe no MongoDB\n",
    "\n",
    "Após criar os pandas dataframes, definidos no passo anterior, devera salva-los nas collection correspondentes no MongoDB. \n",
    "\n",
    "Para isso, será necessário criar uma conexão entre o Python e o MongoDB para persistir estas informações no Banco de dados.\n",
    "\n",
    "Sendo o primeiro dataframe salvo na collection “Carros” e o segundo dataframe salvo na collection “Montadoras”.\n",
    "\n"
   ]
  },
  {
   "cell_type": "code",
   "execution_count": 21,
   "metadata": {},
   "outputs": [],
   "source": [
    "from pymongo import MongoClient #Certificar - se de ter o pymongo instalado\n",
    "\n",
    "# Conexão ao MongoDB\n",
    "client = MongoClient('localhost', 27017)\n",
    "\n",
    "#print(client.list_database_names()) #Para verificação da conexão\n",
    "TestDataOps = client['TestDataOps'] # Escolher o banco de dados\n",
    "\n",
    "# Converte os dataframes em listas de dicionários\n",
    "dbMontadoras = dfMontadoras.to_dict('records')\n",
    "dbCarros = dfCarros.to_dict('records')\n",
    "\n",
    "# Enviar os dataframes, para as Collections\n",
    "collection_dbMontadoras = TestDataOps['Montadoras']\n",
    "collection_dbMontadoras.insert_many(dbMontadoras)\n",
    "\n",
    "collection_dbCarros = TestDataOps['Carros']\n",
    "collection_dbCarros.insert_many(dbCarros)\n",
    "\n",
    "\n",
    "# Fechar a conexão com o MongoDB\n",
    "client.close()"
   ]
  },
  {
   "attachments": {},
   "cell_type": "markdown",
   "metadata": {},
   "source": [
    "1.4.\tCriando Agregação no MongoDB\n",
    "\n",
    "Com os dados salvos no MongoDB, o objetivo atual, é fazer o relacionamento entre as duas collection “Carros” e “Montadoras”, para esta relação vamos utilizar a coluna “Montadora” disponibilizadas nas duas collection.\n",
    "Com o resultado deste relacionamento, precisamos extrair o campo País, de modo a obter o seguinte resultado:\n"
   ]
  },
  {
   "cell_type": "code",
   "execution_count": null,
   "metadata": {},
   "outputs": [],
   "source": [
    "[\n",
    "    {  //Usado para fazer o Join\n",
    "    $lookup: {\n",
    "        from: \"Montadoras\",\n",
    "        localField: \"Montadora\",\n",
    "        foreignField: \"Montadora\",\n",
    "        as: \"Montadora_info\", \n",
    "    \t},\n",
    "\t},\n",
    " \n",
    "    {   //Utilizado para tirar o Array\n",
    "    $unwind: \"$Montadora_info\", \n",
    "\t},\n",
    " \n",
    "    {   //Estabele quais colunas devem ter no projeto\n",
    "    $project: {\n",
    "        _id: 1,\n",
    "        Carro: 1,\n",
    "        Cor: 1,\n",
    "        Montadora:1,\n",
    "        País: '$Montadora_info.País',\n",
    "      \t}\n",
    "\t},\n",
    "    {   //Agrupa os carrops pelo países\n",
    "    $group: {\n",
    "        _id: '$País',\n",
    "        Carros: {'$push': '$Carro'}\n",
    "        }\n",
    "    },\n",
    "]"
   ]
  },
  {
   "attachments": {},
   "cell_type": "markdown",
   "metadata": {},
   "source": [
    "1.5.\tAgrupando informações\n",
    "\n",
    "Ainda dentro da mesma agregação criada no passo anterior, será necessário, agrupar os dados pelo campo de “País”, de modo que as informações sobre o carro, fique inserida dentro de um elemento chamado “Carros”, como representado na imagem abaixo:\n"
   ]
  },
  {
   "cell_type": "code",
   "execution_count": null,
   "metadata": {},
   "outputs": [],
   "source": [
    " // Adicionando o códigoabaixo dentro da pipeline do MongoDB Compass é possivel realizar o agrupamento solicitado\n",
    "{   //Agrupa os carrops pelo países\n",
    "    $group: {\n",
    "        _id: '$País',\n",
    "        Carros: {'$push': '$Carro'}\n",
    "        }\n",
    "    },"
   ]
  },
  {
   "attachments": {},
   "cell_type": "markdown",
   "metadata": {},
   "source": [
    "2.\tSalvando os scripts\n",
    "\n",
    "\n",
    "Ao finalizar os passos anteriores, salve todos os scripts desenvolvidos, exporte as duas collection criadas no MongoDB, e faça o upload em um repositório GIT com o nome de sua preferência, certifique-se que o repositório esteja visível para o público. Finalize também o questionário inserido no início e fim deste documento, e salve-o no GIT.\n",
    "\n",
    "Lembre-se, o repositório deverá conter os seguintes arquivos:\n",
    "•\tArquivo Python com os pandas dataframes salvando as informações no banco de dados.\n",
    "\n",
    "        Estão Neste Notebook\n",
    "\n",
    "•\tAgregação criada no MongoDB com os passos descritos neste documento.\n",
    "\n",
    "        Estão no arquivo CoderTestDataOps_LookupAndGroup_ Atv1.4_1.5.JS\n",
    "\n",
    "•\tCollections do MongoDB exportadas.\n",
    "\n",
    "        Ok DataBase_TestDataOps.Montadoras e DataBase_TestDataOps.Carros, ambos em Json\n",
    "\n",
    "•\tArquivo World contendo os questionários respondidos.\n",
    "\n",
    "        Está neste notebook\n"
   ]
  },
  {
   "attachments": {},
   "cell_type": "markdown",
   "metadata": {},
   "source": [
    "4.\tDesempenho\n",
    "\n",
    "Descreva abaixo quais foram os pontos mais fáceis, e mais difíceis encontrados nesta atividade, caso não tenho conseguido executar algum passo nesta atividade, especifique quais as dificuldades enfrentadas que o impediu de realiza-las:\n",
    "\n",
    "\n",
    "O ponto mais facíl do teste foi criação dos DataFrames. Tive um pouco de dificuldade em como fazer a conversão do Array, após o Lookup, para o formato correto. Tive que ler muita a documentação e com a ajuda de vídeos consegui compreender e entender que o Unwind, faz essa conversão."
   ]
  },
  {
   "attachments": {},
   "cell_type": "markdown",
   "metadata": {},
   "source": [
    "3.\tFinalização\n",
    "\n",
    "Assim que finalizar, informe a pessoa responsável pelo processo seletivo, que as atividades desenvolvidas foram concluídas, e envie também, o link do repositório GIT onde as informações foram salvas.\n",
    "\n",
    "Link do Repositório GIT: https://github.com/JeanBonatto/TestDataOps"
   ]
  }
 ],
 "metadata": {
  "kernelspec": {
   "display_name": "Python 3",
   "language": "python",
   "name": "python3"
  },
  "language_info": {
   "codemirror_mode": {
    "name": "ipython",
    "version": 3
   },
   "file_extension": ".py",
   "mimetype": "text/x-python",
   "name": "python",
   "nbconvert_exporter": "python",
   "pygments_lexer": "ipython3",
   "version": "3.11.2"
  },
  "orig_nbformat": 4
 },
 "nbformat": 4,
 "nbformat_minor": 2
}
